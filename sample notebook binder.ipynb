{
  "cells": [
    {
      "cell_type": "markdown",
      "metadata": {
        "id": "Oq8_buX8Fo18"
      },
      "source": [
        "**Uncomment the following lines (by deleting the leading `#`) if you are running this in Colab. (Thanks to Jake VanderPlas for the tip!)**"
      ]
    },
    {
      "cell_type": "code",
      "execution_count": 12,
      "metadata": {
        "id": "WkXBDmqNFo1-",
        "colab": {
          "base_uri": "https://localhost:8080/"
        },
        "outputId": "cf8f5485-c2a1-423b-e498-9005bf732569"
      },
      "outputs": [
        {
          "output_type": "stream",
          "name": "stdout",
          "text": [
            "Requirement already satisfied: biopython in /usr/local/lib/python3.10/dist-packages (1.83)\n",
            "Requirement already satisfied: numpy in /usr/local/lib/python3.10/dist-packages (from biopython) (1.25.2)\n",
            "Requirement already satisfied: folium in /usr/local/lib/python3.10/dist-packages (0.14.0)\n",
            "Requirement already satisfied: branca>=0.6.0 in /usr/local/lib/python3.10/dist-packages (from folium) (0.7.2)\n",
            "Requirement already satisfied: jinja2>=2.9 in /usr/local/lib/python3.10/dist-packages (from folium) (3.1.3)\n",
            "Requirement already satisfied: numpy in /usr/local/lib/python3.10/dist-packages (from folium) (1.25.2)\n",
            "Requirement already satisfied: requests in /usr/local/lib/python3.10/dist-packages (from folium) (2.31.0)\n",
            "Requirement already satisfied: MarkupSafe>=2.0 in /usr/local/lib/python3.10/dist-packages (from jinja2>=2.9->folium) (2.1.5)\n",
            "Requirement already satisfied: charset-normalizer<4,>=2 in /usr/local/lib/python3.10/dist-packages (from requests->folium) (3.3.2)\n",
            "Requirement already satisfied: idna<4,>=2.5 in /usr/local/lib/python3.10/dist-packages (from requests->folium) (3.7)\n",
            "Requirement already satisfied: urllib3<3,>=1.21.1 in /usr/local/lib/python3.10/dist-packages (from requests->folium) (2.0.7)\n",
            "Requirement already satisfied: certifi>=2017.4.17 in /usr/local/lib/python3.10/dist-packages (from requests->folium) (2024.2.2)\n",
            "  % Total    % Received % Xferd  Average Speed   Time    Time     Time  Current\n",
            "                                 Dload  Upload   Total   Spent    Left  Speed\n",
            "100 31838  100 31838    0     0   212k      0 --:--:-- --:--:-- --:--:--  212k\n"
          ]
        }
      ],
      "source": [
        "!pip install biopython\n",
        "!pip install folium\n",
        "!curl -O https://raw.githubusercontent.com/jperkel/example_notebook/master/NC_005816.gb"
      ]
    },
    {
      "cell_type": "markdown",
      "metadata": {
        "id": "8aj5eT-kFo1_"
      },
      "source": [
        "This simple notebook demonstrates how users can interleave text, code, and results in a single document. We start with a simple calculation -- computing the first 25 numbers in the Fibonacci sequence, where each value equals the sum of the two previous values. The Jupyter notebook allows us to express that mathematically, using the typesetting language $\\LaTeX{}$: $$F_n = F_{n-1} + F_{n-2}$$\n",
        "Thus, the sequence is: 0, 1, 1, 2, 3, 5, 8, ..."
      ]
    },
    {
      "cell_type": "markdown",
      "metadata": {
        "id": "dwvLEj1xFo1_"
      },
      "source": [
        "The first cell contains an IPython 'magic' code, '%matplotlib', which allows the notebook to display plots inline, in the body of the notebook."
      ]
    },
    {
      "cell_type": "code",
      "execution_count": 13,
      "metadata": {
        "id": "vDA1kFBCFo2A"
      },
      "outputs": [],
      "source": [
        "%matplotlib inline"
      ]
    },
    {
      "cell_type": "code",
      "execution_count": 14,
      "metadata": {
        "id": "_5AQmeS3Fo2A"
      },
      "outputs": [],
      "source": [
        "import matplotlib.pyplot as plt"
      ]
    },
    {
      "cell_type": "code",
      "execution_count": 15,
      "metadata": {
        "id": "nf62l4XNFo2A",
        "outputId": "da23a709-a949-45f9-d849-988cc0f9c3d0",
        "colab": {
          "base_uri": "https://localhost:8080/"
        }
      },
      "outputs": [
        {
          "output_type": "stream",
          "name": "stdout",
          "text": [
            "[0, 1, 1, 2, 3, 5, 8, 13, 21, 34, 55, 89, 144, 233, 377, 610, 987, 1597, 2584, 4181, 6765, 10946, 17711, 28657, 46368]\n"
          ]
        }
      ],
      "source": [
        "# calculate the first 25 Fibonacci numbers\n",
        "f1 = 0\n",
        "f2 = 1\n",
        "ar = [f1, f2] # a list to hold the computed values. We know the first two numbers\n",
        "\n",
        "# we only need to run our calculation 23 times, because positions 1 and 2 are known\n",
        "for i in range (23):\n",
        "    f3 = f1 + f2\n",
        "    ar.append (f3)\n",
        "    f1 = f2\n",
        "    f2 = f3\n",
        "\n",
        "print (ar) # below, you see the output of the code itself."
      ]
    },
    {
      "cell_type": "markdown",
      "metadata": {
        "id": "2Sk6ecuiFo2B"
      },
      "source": [
        "Plot the data"
      ]
    },
    {
      "cell_type": "code",
      "execution_count": 16,
      "metadata": {
        "id": "pZxu2h6BFo2C",
        "outputId": "c3059467-ef66-43b4-ccf8-83f60168d779",
        "colab": {
          "base_uri": "https://localhost:8080/",
          "height": 472
        }
      },
      "outputs": [
        {
          "output_type": "display_data",
          "data": {
            "text/plain": [
              "<Figure size 640x480 with 1 Axes>"
            ],
            "image/png": "[encoded data removed]"
          },
          "metadata": {}
        }
      ],
      "source": [
        "fig, ax = plt.subplots()\n",
        "ax.plot (range(25), ar, \"ro\")\n",
        "## uncomment the following call to ax.plot() (by removing the leading '#') and select\n",
        "## 'Cell > Run All' (in Binder) or 'Run > Run All Cells' (Jupyter) to change the graph below\n",
        "ax.plot (range(25), ar)\n",
        "ax.set (xlabel = \"Sequence No.\", ylabel = \"Fibonacci No.\",\n",
        "       title = \"The First 25 Fibonacci Numbers\")\n",
        "plt.show()"
      ]
    },
    {
      "cell_type": "markdown",
      "metadata": {
        "id": "m9OPciqfFo2C"
      },
      "source": [
        "Anything you can do programmatically, can be documented in a notebook. Here we'll do some simple sequence analysis with Biopython. The following example is adapted from the [Biopython tutorial](http://biopython.org/DIST/docs/tutorial/Tutorial.html)."
      ]
    },
    {
      "cell_type": "markdown",
      "metadata": {
        "id": "tWzoInhHFo2C"
      },
      "source": [
        "First, we'll read in a Genbank-formatted file, which represents a circular DNA, called a plasmid, from the bacterium, *Yersinia pestis*."
      ]
    },
    {
      "cell_type": "code",
      "execution_count": 17,
      "metadata": {
        "id": "oPq4zuF3Fo2C",
        "outputId": "54f8ee2f-f9d0-4d9b-f833-49ab6f3a7bee",
        "colab": {
          "base_uri": "https://localhost:8080/"
        }
      },
      "outputs": [
        {
          "output_type": "execute_result",
          "data": {
            "text/plain": [
              "Seq('TGTAACGAACGGTGCAATAGTGATCCACACCCAACGCCTGAAATCAGATCCAGG...CTG')"
            ]
          },
          "metadata": {},
          "execution_count": 17
        }
      ],
      "source": [
        "from Bio import SeqIO\n",
        "\n",
        "record = SeqIO.read(\"NC_005816.gb\", \"genbank\")\n",
        "record.seq"
      ]
    },
    {
      "cell_type": "markdown",
      "metadata": {
        "id": "EkMRhLMzFo2D"
      },
      "source": [
        "How long is the DNA, and how which genes does it encode?"
      ]
    },
    {
      "cell_type": "code",
      "execution_count": 18,
      "metadata": {
        "id": "DX05E2KUFo2D",
        "outputId": "e8045b2d-45f5-42ab-d2f0-f53ebe8a4e16",
        "colab": {
          "base_uri": "https://localhost:8080/"
        }
      },
      "outputs": [
        {
          "output_type": "stream",
          "name": "stdout",
          "text": [
            "Length: 9609 bp\n",
            "No. features: 41 \n",
            "\n",
            "Feat. 3: putative transposase\n",
            "Feat. 8: transposase/IS protein\n",
            "Feat. 15: putative replication regulatory protein\n",
            "Feat. 18: hypothetical protein\n",
            "Feat. 21: pesticin immunity protein\n",
            "Feat. 23: pesticin\n",
            "Feat. 29: hypothetical protein\n",
            "Feat. 32: outer membrane protease\n",
            "Feat. 35: putative transcriptional regulator\n",
            "Feat. 38: hypothetical protein\n"
          ]
        }
      ],
      "source": [
        "print(\"Length:\", len(record.seq), \"bp\")\n",
        "print(\"No. features:\", len(record.features),\"\\n\")\n",
        "\n",
        "for i,feat in enumerate (record.features):\n",
        "    if (feat.type == \"CDS\"):\n",
        "        product = feat.qualifiers['product'][0]\n",
        "        print (\"Feat. %d: %s\" % (i, product))"
      ]
    },
    {
      "cell_type": "markdown",
      "metadata": {
        "id": "4wJbH8_iFo2D"
      },
      "source": [
        "This plasmid encodes 41 features, including 10 genes. Let's focus on feature #18, which encodes a 'hypothetical protein'."
      ]
    },
    {
      "cell_type": "code",
      "execution_count": 19,
      "metadata": {
        "id": "k6lRbh4TFo2D",
        "outputId": "2f519c5d-97d4-4aa7-b362-404df5ef899d",
        "colab": {
          "base_uri": "https://localhost:8080/"
        }
      },
      "outputs": [
        {
          "output_type": "stream",
          "name": "stdout",
          "text": [
            "Gene location\n",
            "Start: 3485 \n",
            "End: 3857\n",
            "GeneID: ['GI:45478715', 'GeneID:2767720']\n"
          ]
        }
      ],
      "source": [
        "feat = record.features[18]\n",
        "print (\"Gene location\\nStart:\", feat.location.start, \"\\nEnd:\", feat.location.end)\n",
        "print (\"GeneID:\", feat.qualifiers.get(\"db_xref\"))"
      ]
    },
    {
      "cell_type": "markdown",
      "metadata": {
        "id": "vcZNVGshFo2D"
      },
      "source": [
        "These data show us that the gene is located between bases 3485 and 3857. Let's retrieve that segment and translate it."
      ]
    },
    {
      "cell_type": "code",
      "execution_count": 20,
      "metadata": {
        "id": "hSVdBT4dFo2D",
        "outputId": "ee0eabc7-ef56-4269-8951-8278e02d4b2a",
        "colab": {
          "base_uri": "https://localhost:8080/"
        }
      },
      "outputs": [
        {
          "output_type": "stream",
          "name": "stdout",
          "text": [
            "VSKKRRPQKRPRRRRFFHRLRPPDEHHKNRRSSQRWRNPTGLKDTRRFPPEAPSCALLFRPCRLPDTSPPFSLREAWRFLIAHAVGISVRCRSFAPSWAVCTNPPFSPTTAPYPVTIVLSPTR*\n"
          ]
        }
      ],
      "source": [
        "my_gene = record[3485:3857]\n",
        "print (my_gene.seq.translate(table=\"Bacterial\"))"
      ]
    },
    {
      "cell_type": "markdown",
      "metadata": {
        "id": "YcCQ2eohFo2D"
      },
      "source": [
        "Now, let's find out more about this gene, using the NCBI Entrez database. We learned the accession number above: `GeneID: ['GI:45478715', 'GeneID:2767720']`.\n",
        "\n",
        "**20 May 2020**: Updated the following two cells to reflect changes in NCBI's Entrez database."
      ]
    },
    {
      "cell_type": "code",
      "execution_count": 21,
      "metadata": {
        "id": "O7VQl2JdFo2E"
      },
      "outputs": [],
      "source": [
        "from Bio import Entrez"
      ]
    },
    {
      "cell_type": "code",
      "execution_count": 22,
      "metadata": {
        "id": "knkDp_t8Fo2E",
        "outputId": "09430cca-de28-497a-c962-de5ed5a31966",
        "colab": {
          "base_uri": "https://localhost:8080/"
        }
      },
      "outputs": [
        {
          "output_type": "stream",
          "name": "stdout",
          "text": [
            "LOCUS       AAS58761                 123 aa            linear   BCT 26-JUL-2016\n",
            "DEFINITION  conserved hypothetical protein (plasmid) [Yersinia pestis biovar\n",
            "            Microtus str. 91001].\n",
            "ACCESSION   AAS58761\n",
            "VERSION     AAS58761.1\n",
            "DBLINK      BioProject: PRJNA10638\n",
            "            BioSample: SAMN02602970\n",
            "DBSOURCE    accession AE017046.1\n",
            "KEYWORDS    .\n",
            "SOURCE      Yersinia pestis biovar Microtus str. 91001\n",
            "  ORGANISM  Yersinia pestis biovar Microtus str. 91001\n",
            "            Bacteria; Pseudomonadota; Gammaproteobacteria; Enterobacterales;\n",
            "            Yersiniaceae; Yersinia.\n",
            "REFERENCE   1  (residues 1 to 123)\n",
            "  AUTHORS   Song,Y., Tong,Z., Wang,J., Wang,L., Guo,Z., Han,Y., Zhang,J.,\n",
            "            Pei,D., Zhou,D., Qin,H., Pang,X., Han,Y., Zhai,J., Li,M., Cui,B.,\n",
            "            Qi,Z., Jin,L., Dai,R., Chen,F., Li,S., Ye,C., Du,Z., Lin,W.,\n",
            "            Wang,J., Yu,J., Yang,H., Wang,J., Huang,P. and Yang,R.\n",
            "  TITLE     Complete genome sequence of Yersinia pestis strain 91001, an\n",
            "            isolate avirulent to humans\n",
            "  JOURNAL   DNA Res. 11 (3), 179-197 (2004)\n",
            "   PUBMED   15368893\n",
            "REFERENCE   2  (residues 1 to 123)\n",
            "  AUTHORS   Zhou,D., Tong,Z., Song,Y., Han,Y., Pei,D., Pang,X., Zhai,J., Li,M.,\n",
            "            Cui,B., Qi,Z., Jin,L., Dai,R., Du,Z., Wang,J., Guo,Z., Wang,J.,\n",
            "            Huang,P. and Yang,R.\n",
            "  TITLE     Genetics of metabolic variations between Yersinia pestis biovars\n",
            "            and the proposal of a new biovar, microtus\n",
            "  JOURNAL   J. Bacteriol. 186 (15), 5147-5152 (2004)\n",
            "   PUBMED   15262951\n",
            "REFERENCE   3  (residues 1 to 123)\n",
            "  AUTHORS   Song,Y., Tong,Z., Wang,L., Han,Y., Zhang,J., Pei,D., Wang,J.,\n",
            "            Zhou,D., Han,Y., Pang,X., Zhai,J., Chen,F., Qin,H., Wang,J., Li,S.,\n",
            "            Guo,Z., Ye,C., Du,Z., Lin,W., Wang,J., Yu,J., Yang,H., Wang,J.,\n",
            "            Huang,P. and Yang,R.\n",
            "  TITLE     Direct Submission\n",
            "  JOURNAL   Submitted (24-APR-2003) The Institute of Microbiology and\n",
            "            Epidemiology, Academy of Military Medical Sciences, No. 20,\n",
            "            Dongdajie Street, Fengtai District, Beijing 100071, People's\n",
            "            Republic of China\n",
            "COMMENT     Method: conceptual translation.\n",
            "FEATURES             Location/Qualifiers\n",
            "     source          1..123\n",
            "                     /organism=\"Yersinia pestis biovar Microtus str. 91001\"\n",
            "                     /strain=\"91001\"\n",
            "                     /sub_species=\"microtus\"\n",
            "                     /db_xref=\"taxon:229193\"\n",
            "                     /plasmid=\"pPCP1\"\n",
            "                     /note=\"biovar: Microtus\"\n",
            "     Protein         1..123\n",
            "                     /product=\"conserved hypothetical protein\"\n",
            "     CDS             1..123\n",
            "                     /locus_tag=\"YP_pPCP04\"\n",
            "                     /old_locus_tag=\"pPCP04\"\n",
            "                     /coded_by=\"AE017046.1:3486..3857\"\n",
            "                     /note=\"Best Blastp hit = gi|321919|pir||JQ1541\n",
            "                     hypothetical 16.9K protein - Salmonella typhi murium\n",
            "                     plasmid NTP16.\"\n",
            "                     /transl_table=11\n",
            "ORIGIN      \n",
            "        1 mskkrrpqkr prrrrffhrl rppdehhknr rssqrwrnpt glkdtrrfpp eapscallfr\n",
            "       61 pcrlpdtspp fslreawrfl iahavgisvr crsfapswav ctnppfsptt apypvtivls\n",
            "      121 ptr\n",
            "//\n",
            "\n",
            "\n"
          ]
        }
      ],
      "source": [
        "Entrez.email = \"A.N.Other@example.com\"  # Always tell NCBI who you are\n",
        "with Entrez.efetch (db=\"protein\",rettype=\"gb\",retmode=\"text\",id=\"AAS58761\") as handle:\n",
        "   print (handle.read())\n",
        "#handle = Entrez.efetch (db=\"nucleotide\",id=\"45478715\",rettype=\"gb\",retmode=\"text\")\n",
        "#print (handle.read())"
      ]
    },
    {
      "cell_type": "markdown",
      "metadata": {
        "id": "rJ5E5MeFFo2E"
      },
      "source": [
        "Jupyter also supports interactive data exploration. Here we'll add an interactive map, just as in our June [mapping feature](https://www.nature.com/articles/d41586-018-05331-6) -- something you might do when working with geospatial data. This requires the Python Leaflet library, folium."
      ]
    },
    {
      "cell_type": "code",
      "execution_count": 23,
      "metadata": {
        "id": "3vNyO3d6Fo2E"
      },
      "outputs": [],
      "source": [
        "import folium"
      ]
    },
    {
      "cell_type": "markdown",
      "metadata": {
        "id": "JUjy90v5Fo2E"
      },
      "source": [
        "Now we create a simple map: a few points in London, Oxford and Cambridge, overlaid on either a street map, or on a map of geological data provided by the [Macrostrat Project](https://macrostrat.org/)."
      ]
    },
    {
      "cell_type": "code",
      "execution_count": 24,
      "metadata": {
        "id": "t6hQScq8Fo2E"
      },
      "outputs": [],
      "source": [
        "coords = {\n",
        "    0: { \"name\": \"Nature\", \"lat\": 51.533925, \"long\": -0.121553 },\n",
        "    1: { \"name\": \"Francis Crick Institite\", \"lat\": 51.531877, \"long\": -0.128767 },\n",
        "    2: { \"name\": \"MRC Laboratory for Molecular Cell Biology\", \"lat\": 51.524435, \"long\": -0.132495 },\n",
        "    3: { \"name\": \"Kings College London\", \"lat\": 51.511573, \"long\": -0.116083 },\n",
        "    4: { \"name\": \"Imperial College London\", \"lat\": 51.498780, \"long\": -0.174888 },\n",
        "    5: { \"name\": \"Cambridge University\", \"lat\": 52.206960, \"long\": 0.115034 },\n",
        "    6: { \"name\": \"Oxford University\", \"lat\": 51.754843, \"long\": -1.254302 },\n",
        "    7: { \"name\": \"Platform 9 3/4\", \"lat\": 51.532349, \"long\": -0.123806 }\n",
        "}"
      ]
    },
    {
      "cell_type": "code",
      "execution_count": 25,
      "metadata": {
        "id": "x1eUAQPUFo2E",
        "outputId": "8f71f532-eea5-4c29-9e16-93684f5678a8",
        "colab": {
          "base_uri": "https://localhost:8080/"
        }
      },
      "outputs": [
        {
          "output_type": "execute_result",
          "data": {
            "text/plain": [
              "<folium.features.LatLngPopup at 0x7f07e22c2560>"
            ]
          },
          "metadata": {},
          "execution_count": 25
        }
      ],
      "source": [
        "m = folium.Map(location = [51.8561, -0.2966], tiles = 'CartoDB positron', zoom_start = 9)\n",
        "\n",
        "# add the locations to the map\n",
        "for key in coords.keys():\n",
        "    folium.CircleMarker(\n",
        "    location=[coords[key]['lat'], coords[key]['long']],\n",
        "    popup=coords[key]['name'],\n",
        "    color=('crimson' if coords[key]['name'] == 'Nature' else 'blue'),\n",
        "    fill=False,\n",
        "    ).add_to(m)\n",
        "\n",
        "# pull in the Macrostrat tile layer\n",
        "folium.TileLayer(tiles='https://tiles.macrostrat.org/carto/{z}/{x}/{y}.png',\n",
        "                 attr='Macrostrat', name='Macrostrat').add_to(m)\n",
        "folium.LayerControl().add_to(m) # allow user to switch between layers\n",
        "folium.LatLngPopup().add_to(m) # click on the map to get Lat/Long in a popup"
      ]
    },
    {
      "cell_type": "markdown",
      "metadata": {
        "id": "KO9q2KGHFo2E"
      },
      "source": [
        "Draw the map. **Note that this map is interactive**: you can zoom, pan, click the points of interest, and alternate between the two layers (by clicking on the tiles icon in the upper-right corner of the map). If you click anywhere on the map, a popup will appear showing the latitude and longitude of that position."
      ]
    },
    {
      "cell_type": "code",
      "execution_count": 26,
      "metadata": {
        "id": "xtwH7ux7Fo2F",
        "outputId": "cea4780e-b843-4814-8c56-a289523f4306",
        "colab": {
          "base_uri": "https://localhost:8080/",
          "height": 709
        }
      },
      "outputs": [
        {
          "output_type": "execute_result",
          "data": {
            "text/plain": [
              "<folium.folium.Map at 0x7f07e22c0df0>"
            ],
            "text/html": [
              "<div style=\"width:100%;\"><div style=\"position:relative;width:100%;height:0;padding-bottom:60%;\"><span style=\"color:#565656\">Make this Notebook Trusted to load map: File -> Trust Notebook</span><iframe srcdoc=\"&lt;!DOCTYPE html&gt;\n",
              "&lt;html&gt;\n",
              "&lt;head&gt;\n",
              "    \n",
              "    &lt;meta http-equiv=&quot;content-type&quot; content=&quot;text/html; charset=UTF-8&quot; /&gt;\n",
              "    \n",
              "        &lt;script&gt;\n",
              "            L_NO_TOUCH = false;\n",
              "            L_DISABLE_3D = false;\n",
              "        &lt;/script&gt;\n",
              "    \n",
              "    &lt;style&gt;html, body {width: 100%;height: 100%;margin: 0;padding: 0;}&lt;/style&gt;\n",
              "    &lt;style&gt;#map {position:absolute;top:0;bottom:0;right:0;left:0;}&lt;/style&gt;\n",
              "    &lt;script src=&quot;https://cdn.jsdelivr.net/npm/leaflet@1.9.3/dist/leaflet.js&quot;&gt;&lt;/script&gt;\n",
              "    &lt;script src=&quot;https://code.jquery.com/jquery-1.12.4.min.js&quot;&gt;&lt;/script&gt;\n",
              "    &lt;script src=&quot;https://cdn.jsdelivr.net/npm/bootstrap@5.2.2/dist/js/bootstrap.bundle.min.js&quot;&gt;&lt;/script&gt;\n",
              "    &lt;script src=&quot;https://cdnjs.cloudflare.com/ajax/libs/Leaflet.awesome-markers/2.0.2/leaflet.awesome-markers.js&quot;&gt;&lt;/script&gt;\n",
              "    &lt;link rel=&quot;stylesheet&quot; href=&quot;https://cdn.jsdelivr.net/npm/leaflet@1.9.3/dist/leaflet.css&quot;/&gt;\n",
              "    &lt;link rel=&quot;stylesheet&quot; href=&quot;https://cdn.jsdelivr.net/npm/bootstrap@5.2.2/dist/css/bootstrap.min.css&quot;/&gt;\n",
              "    &lt;link rel=&quot;stylesheet&quot; href=&quot;https://netdna.bootstrapcdn.com/bootstrap/3.0.0/css/bootstrap.min.css&quot;/&gt;\n",
              "    &lt;link rel=&quot;stylesheet&quot; href=&quot;https://cdn.jsdelivr.net/npm/@fortawesome/fontawesome-free@6.2.0/css/all.min.css&quot;/&gt;\n",
              "    &lt;link rel=&quot;stylesheet&quot; href=&quot;https://cdnjs.cloudflare.com/ajax/libs/Leaflet.awesome-markers/2.0.2/leaflet.awesome-markers.css&quot;/&gt;\n",
              "    &lt;link rel=&quot;stylesheet&quot; href=&quot;https://cdn.jsdelivr.net/gh/python-visualization/folium/folium/templates/leaflet.awesome.rotate.min.css&quot;/&gt;\n",
              "    \n",
              "            &lt;meta name=&quot;viewport&quot; content=&quot;width=device-width,\n",
              "                initial-scale=1.0, maximum-scale=1.0, user-scalable=no&quot; /&gt;\n",
              "            &lt;style&gt;\n",
              "                #map_e421c60aefb72bb39453bcd92ea6411e {\n",
              "                    position: relative;\n",
              "                    width: 100.0%;\n",
              "                    height: 100.0%;\n",
              "                    left: 0.0%;\n",
              "                    top: 0.0%;\n",
              "                }\n",
              "                .leaflet-container { font-size: 1rem; }\n",
              "            &lt;/style&gt;\n",
              "        \n",
              "&lt;/head&gt;\n",
              "&lt;body&gt;\n",
              "    \n",
              "    \n",
              "            &lt;div class=&quot;folium-map&quot; id=&quot;map_e421c60aefb72bb39453bcd92ea6411e&quot; &gt;&lt;/div&gt;\n",
              "        \n",
              "&lt;/body&gt;\n",
              "&lt;script&gt;\n",
              "    \n",
              "    \n",
              "            var map_e421c60aefb72bb39453bcd92ea6411e = L.map(\n",
              "                &quot;map_e421c60aefb72bb39453bcd92ea6411e&quot;,\n",
              "                {\n",
              "                    center: [51.8561, -0.2966],\n",
              "                    crs: L.CRS.EPSG3857,\n",
              "                    zoom: 9,\n",
              "                    zoomControl: true,\n",
              "                    preferCanvas: false,\n",
              "                }\n",
              "            );\n",
              "\n",
              "            \n",
              "\n",
              "        \n",
              "    \n",
              "            var tile_layer_cab9bfadc3d832543724f2c4da9320bc = L.tileLayer(\n",
              "                &quot;https://cartodb-basemaps-{s}.global.ssl.fastly.net/light_all/{z}/{x}/{y}.png&quot;,\n",
              "                {&quot;attribution&quot;: &quot;\\u0026copy; \\u003ca target=\\&quot;_blank\\&quot; href=\\&quot;http://www.openstreetmap.org/copyright\\&quot;\\u003eOpenStreetMap\\u003c/a\\u003e contributors \\u0026copy; \\u003ca target=\\&quot;_blank\\&quot; href=\\&quot;http://cartodb.com/attributions\\&quot;\\u003eCartoDB\\u003c/a\\u003e, CartoDB \\u003ca target=\\&quot;_blank\\&quot; href =\\&quot;http://cartodb.com/attributions\\&quot;\\u003eattributions\\u003c/a\\u003e&quot;, &quot;detectRetina&quot;: false, &quot;maxNativeZoom&quot;: 18, &quot;maxZoom&quot;: 18, &quot;minZoom&quot;: 0, &quot;noWrap&quot;: false, &quot;opacity&quot;: 1, &quot;subdomains&quot;: &quot;abc&quot;, &quot;tms&quot;: false}\n",
              "            ).addTo(map_e421c60aefb72bb39453bcd92ea6411e);\n",
              "        \n",
              "    \n",
              "            var circle_marker_f65ced085707b1b68a068d77e952bfa4 = L.circleMarker(\n",
              "                [51.533925, -0.121553],\n",
              "                {&quot;bubblingMouseEvents&quot;: true, &quot;color&quot;: &quot;crimson&quot;, &quot;dashArray&quot;: null, &quot;dashOffset&quot;: null, &quot;fill&quot;: false, &quot;fillColor&quot;: &quot;crimson&quot;, &quot;fillOpacity&quot;: 0.2, &quot;fillRule&quot;: &quot;evenodd&quot;, &quot;lineCap&quot;: &quot;round&quot;, &quot;lineJoin&quot;: &quot;round&quot;, &quot;opacity&quot;: 1.0, &quot;radius&quot;: 10, &quot;stroke&quot;: true, &quot;weight&quot;: 3}\n",
              "            ).addTo(map_e421c60aefb72bb39453bcd92ea6411e);\n",
              "        \n",
              "    \n",
              "        var popup_bd2796069ff7d1bb9047d6e17880ac8b = L.popup({&quot;maxWidth&quot;: &quot;100%&quot;});\n",
              "\n",
              "        \n",
              "            \n",
              "                var html_88786d82793cb621c3f8833c6adcd90d = $(`&lt;div id=&quot;html_88786d82793cb621c3f8833c6adcd90d&quot; style=&quot;width: 100.0%; height: 100.0%;&quot;&gt;Nature&lt;/div&gt;`)[0];\n",
              "                popup_bd2796069ff7d1bb9047d6e17880ac8b.setContent(html_88786d82793cb621c3f8833c6adcd90d);\n",
              "            \n",
              "        \n",
              "\n",
              "        circle_marker_f65ced085707b1b68a068d77e952bfa4.bindPopup(popup_bd2796069ff7d1bb9047d6e17880ac8b)\n",
              "        ;\n",
              "\n",
              "        \n",
              "    \n",
              "    \n",
              "            var circle_marker_21068e70ba21b6f16690270c993e0ba9 = L.circleMarker(\n",
              "                [51.531877, -0.128767],\n",
              "                {&quot;bubblingMouseEvents&quot;: true, &quot;color&quot;: &quot;blue&quot;, &quot;dashArray&quot;: null, &quot;dashOffset&quot;: null, &quot;fill&quot;: false, &quot;fillColor&quot;: &quot;blue&quot;, &quot;fillOpacity&quot;: 0.2, &quot;fillRule&quot;: &quot;evenodd&quot;, &quot;lineCap&quot;: &quot;round&quot;, &quot;lineJoin&quot;: &quot;round&quot;, &quot;opacity&quot;: 1.0, &quot;radius&quot;: 10, &quot;stroke&quot;: true, &quot;weight&quot;: 3}\n",
              "            ).addTo(map_e421c60aefb72bb39453bcd92ea6411e);\n",
              "        \n",
              "    \n",
              "        var popup_a68eda1c77d5968e18ff46826f540098 = L.popup({&quot;maxWidth&quot;: &quot;100%&quot;});\n",
              "\n",
              "        \n",
              "            \n",
              "                var html_098d06ff417914cf07069ca8322e8d61 = $(`&lt;div id=&quot;html_098d06ff417914cf07069ca8322e8d61&quot; style=&quot;width: 100.0%; height: 100.0%;&quot;&gt;Francis Crick Institite&lt;/div&gt;`)[0];\n",
              "                popup_a68eda1c77d5968e18ff46826f540098.setContent(html_098d06ff417914cf07069ca8322e8d61);\n",
              "            \n",
              "        \n",
              "\n",
              "        circle_marker_21068e70ba21b6f16690270c993e0ba9.bindPopup(popup_a68eda1c77d5968e18ff46826f540098)\n",
              "        ;\n",
              "\n",
              "        \n",
              "    \n",
              "    \n",
              "            var circle_marker_97ce613717c6c622e433b7d34612ca0f = L.circleMarker(\n",
              "                [51.524435, -0.132495],\n",
              "                {&quot;bubblingMouseEvents&quot;: true, &quot;color&quot;: &quot;blue&quot;, &quot;dashArray&quot;: null, &quot;dashOffset&quot;: null, &quot;fill&quot;: false, &quot;fillColor&quot;: &quot;blue&quot;, &quot;fillOpacity&quot;: 0.2, &quot;fillRule&quot;: &quot;evenodd&quot;, &quot;lineCap&quot;: &quot;round&quot;, &quot;lineJoin&quot;: &quot;round&quot;, &quot;opacity&quot;: 1.0, &quot;radius&quot;: 10, &quot;stroke&quot;: true, &quot;weight&quot;: 3}\n",
              "            ).addTo(map_e421c60aefb72bb39453bcd92ea6411e);\n",
              "        \n",
              "    \n",
              "        var popup_a7843cb042ca451edd8955daa4694d9c = L.popup({&quot;maxWidth&quot;: &quot;100%&quot;});\n",
              "\n",
              "        \n",
              "            \n",
              "                var html_8456198fa502a9c9a9c89f269748c904 = $(`&lt;div id=&quot;html_8456198fa502a9c9a9c89f269748c904&quot; style=&quot;width: 100.0%; height: 100.0%;&quot;&gt;MRC Laboratory for Molecular Cell Biology&lt;/div&gt;`)[0];\n",
              "                popup_a7843cb042ca451edd8955daa4694d9c.setContent(html_8456198fa502a9c9a9c89f269748c904);\n",
              "            \n",
              "        \n",
              "\n",
              "        circle_marker_97ce613717c6c622e433b7d34612ca0f.bindPopup(popup_a7843cb042ca451edd8955daa4694d9c)\n",
              "        ;\n",
              "\n",
              "        \n",
              "    \n",
              "    \n",
              "            var circle_marker_64582a8e83aabe26e199f91bc891cb03 = L.circleMarker(\n",
              "                [51.511573, -0.116083],\n",
              "                {&quot;bubblingMouseEvents&quot;: true, &quot;color&quot;: &quot;blue&quot;, &quot;dashArray&quot;: null, &quot;dashOffset&quot;: null, &quot;fill&quot;: false, &quot;fillColor&quot;: &quot;blue&quot;, &quot;fillOpacity&quot;: 0.2, &quot;fillRule&quot;: &quot;evenodd&quot;, &quot;lineCap&quot;: &quot;round&quot;, &quot;lineJoin&quot;: &quot;round&quot;, &quot;opacity&quot;: 1.0, &quot;radius&quot;: 10, &quot;stroke&quot;: true, &quot;weight&quot;: 3}\n",
              "            ).addTo(map_e421c60aefb72bb39453bcd92ea6411e);\n",
              "        \n",
              "    \n",
              "        var popup_9603453c4394132ecca7aba61b57aebe = L.popup({&quot;maxWidth&quot;: &quot;100%&quot;});\n",
              "\n",
              "        \n",
              "            \n",
              "                var html_368433d3c09f1cc7f14a49a7da4e73cd = $(`&lt;div id=&quot;html_368433d3c09f1cc7f14a49a7da4e73cd&quot; style=&quot;width: 100.0%; height: 100.0%;&quot;&gt;Kings College London&lt;/div&gt;`)[0];\n",
              "                popup_9603453c4394132ecca7aba61b57aebe.setContent(html_368433d3c09f1cc7f14a49a7da4e73cd);\n",
              "            \n",
              "        \n",
              "\n",
              "        circle_marker_64582a8e83aabe26e199f91bc891cb03.bindPopup(popup_9603453c4394132ecca7aba61b57aebe)\n",
              "        ;\n",
              "\n",
              "        \n",
              "    \n",
              "    \n",
              "            var circle_marker_f647d149591e62d3489bf88238cc9e90 = L.circleMarker(\n",
              "                [51.49878, -0.174888],\n",
              "                {&quot;bubblingMouseEvents&quot;: true, &quot;color&quot;: &quot;blue&quot;, &quot;dashArray&quot;: null, &quot;dashOffset&quot;: null, &quot;fill&quot;: false, &quot;fillColor&quot;: &quot;blue&quot;, &quot;fillOpacity&quot;: 0.2, &quot;fillRule&quot;: &quot;evenodd&quot;, &quot;lineCap&quot;: &quot;round&quot;, &quot;lineJoin&quot;: &quot;round&quot;, &quot;opacity&quot;: 1.0, &quot;radius&quot;: 10, &quot;stroke&quot;: true, &quot;weight&quot;: 3}\n",
              "            ).addTo(map_e421c60aefb72bb39453bcd92ea6411e);\n",
              "        \n",
              "    \n",
              "        var popup_db723a83e33721d09c2d37a8baaed725 = L.popup({&quot;maxWidth&quot;: &quot;100%&quot;});\n",
              "\n",
              "        \n",
              "            \n",
              "                var html_5ce1a29f7a68baf6e088c42a668c2101 = $(`&lt;div id=&quot;html_5ce1a29f7a68baf6e088c42a668c2101&quot; style=&quot;width: 100.0%; height: 100.0%;&quot;&gt;Imperial College London&lt;/div&gt;`)[0];\n",
              "                popup_db723a83e33721d09c2d37a8baaed725.setContent(html_5ce1a29f7a68baf6e088c42a668c2101);\n",
              "            \n",
              "        \n",
              "\n",
              "        circle_marker_f647d149591e62d3489bf88238cc9e90.bindPopup(popup_db723a83e33721d09c2d37a8baaed725)\n",
              "        ;\n",
              "\n",
              "        \n",
              "    \n",
              "    \n",
              "            var circle_marker_455a6913607210f771ea517f3088f51f = L.circleMarker(\n",
              "                [52.20696, 0.115034],\n",
              "                {&quot;bubblingMouseEvents&quot;: true, &quot;color&quot;: &quot;blue&quot;, &quot;dashArray&quot;: null, &quot;dashOffset&quot;: null, &quot;fill&quot;: false, &quot;fillColor&quot;: &quot;blue&quot;, &quot;fillOpacity&quot;: 0.2, &quot;fillRule&quot;: &quot;evenodd&quot;, &quot;lineCap&quot;: &quot;round&quot;, &quot;lineJoin&quot;: &quot;round&quot;, &quot;opacity&quot;: 1.0, &quot;radius&quot;: 10, &quot;stroke&quot;: true, &quot;weight&quot;: 3}\n",
              "            ).addTo(map_e421c60aefb72bb39453bcd92ea6411e);\n",
              "        \n",
              "    \n",
              "        var popup_28b68295e84b5a161dcb527051e8b781 = L.popup({&quot;maxWidth&quot;: &quot;100%&quot;});\n",
              "\n",
              "        \n",
              "            \n",
              "                var html_a2d554b5250030508eeb1131b0c83c21 = $(`&lt;div id=&quot;html_a2d554b5250030508eeb1131b0c83c21&quot; style=&quot;width: 100.0%; height: 100.0%;&quot;&gt;Cambridge University&lt;/div&gt;`)[0];\n",
              "                popup_28b68295e84b5a161dcb527051e8b781.setContent(html_a2d554b5250030508eeb1131b0c83c21);\n",
              "            \n",
              "        \n",
              "\n",
              "        circle_marker_455a6913607210f771ea517f3088f51f.bindPopup(popup_28b68295e84b5a161dcb527051e8b781)\n",
              "        ;\n",
              "\n",
              "        \n",
              "    \n",
              "    \n",
              "            var circle_marker_a8c72fef88e9f8a4dd62b40c3e030a37 = L.circleMarker(\n",
              "                [51.754843, -1.254302],\n",
              "                {&quot;bubblingMouseEvents&quot;: true, &quot;color&quot;: &quot;blue&quot;, &quot;dashArray&quot;: null, &quot;dashOffset&quot;: null, &quot;fill&quot;: false, &quot;fillColor&quot;: &quot;blue&quot;, &quot;fillOpacity&quot;: 0.2, &quot;fillRule&quot;: &quot;evenodd&quot;, &quot;lineCap&quot;: &quot;round&quot;, &quot;lineJoin&quot;: &quot;round&quot;, &quot;opacity&quot;: 1.0, &quot;radius&quot;: 10, &quot;stroke&quot;: true, &quot;weight&quot;: 3}\n",
              "            ).addTo(map_e421c60aefb72bb39453bcd92ea6411e);\n",
              "        \n",
              "    \n",
              "        var popup_8e8b76f811e8db84c67a079034f6f6be = L.popup({&quot;maxWidth&quot;: &quot;100%&quot;});\n",
              "\n",
              "        \n",
              "            \n",
              "                var html_f4e0b653b1763c10a99d1cfa4f97d5f3 = $(`&lt;div id=&quot;html_f4e0b653b1763c10a99d1cfa4f97d5f3&quot; style=&quot;width: 100.0%; height: 100.0%;&quot;&gt;Oxford University&lt;/div&gt;`)[0];\n",
              "                popup_8e8b76f811e8db84c67a079034f6f6be.setContent(html_f4e0b653b1763c10a99d1cfa4f97d5f3);\n",
              "            \n",
              "        \n",
              "\n",
              "        circle_marker_a8c72fef88e9f8a4dd62b40c3e030a37.bindPopup(popup_8e8b76f811e8db84c67a079034f6f6be)\n",
              "        ;\n",
              "\n",
              "        \n",
              "    \n",
              "    \n",
              "            var circle_marker_5a84c45fd3b55c53a2566418db6f4fd3 = L.circleMarker(\n",
              "                [51.532349, -0.123806],\n",
              "                {&quot;bubblingMouseEvents&quot;: true, &quot;color&quot;: &quot;blue&quot;, &quot;dashArray&quot;: null, &quot;dashOffset&quot;: null, &quot;fill&quot;: false, &quot;fillColor&quot;: &quot;blue&quot;, &quot;fillOpacity&quot;: 0.2, &quot;fillRule&quot;: &quot;evenodd&quot;, &quot;lineCap&quot;: &quot;round&quot;, &quot;lineJoin&quot;: &quot;round&quot;, &quot;opacity&quot;: 1.0, &quot;radius&quot;: 10, &quot;stroke&quot;: true, &quot;weight&quot;: 3}\n",
              "            ).addTo(map_e421c60aefb72bb39453bcd92ea6411e);\n",
              "        \n",
              "    \n",
              "        var popup_e4c8e9daa12068a9f57c26e0ab8aa04d = L.popup({&quot;maxWidth&quot;: &quot;100%&quot;});\n",
              "\n",
              "        \n",
              "            \n",
              "                var html_b7e7915bc4f4345797ba1f4a0b2244d9 = $(`&lt;div id=&quot;html_b7e7915bc4f4345797ba1f4a0b2244d9&quot; style=&quot;width: 100.0%; height: 100.0%;&quot;&gt;Platform 9 3/4&lt;/div&gt;`)[0];\n",
              "                popup_e4c8e9daa12068a9f57c26e0ab8aa04d.setContent(html_b7e7915bc4f4345797ba1f4a0b2244d9);\n",
              "            \n",
              "        \n",
              "\n",
              "        circle_marker_5a84c45fd3b55c53a2566418db6f4fd3.bindPopup(popup_e4c8e9daa12068a9f57c26e0ab8aa04d)\n",
              "        ;\n",
              "\n",
              "        \n",
              "    \n",
              "    \n",
              "            var tile_layer_48049a287839d7fc26ca8e569cab7032 = L.tileLayer(\n",
              "                &quot;https://tiles.macrostrat.org/carto/{z}/{x}/{y}.png&quot;,\n",
              "                {&quot;attribution&quot;: &quot;Macrostrat&quot;, &quot;detectRetina&quot;: false, &quot;maxNativeZoom&quot;: 18, &quot;maxZoom&quot;: 18, &quot;minZoom&quot;: 0, &quot;noWrap&quot;: false, &quot;opacity&quot;: 1, &quot;subdomains&quot;: &quot;abc&quot;, &quot;tms&quot;: false}\n",
              "            ).addTo(map_e421c60aefb72bb39453bcd92ea6411e);\n",
              "        \n",
              "    \n",
              "            var layer_control_31cefbd59804b11d4605e92be3db2fd9 = {\n",
              "                base_layers : {\n",
              "                    &quot;cartodbpositron&quot; : tile_layer_cab9bfadc3d832543724f2c4da9320bc,\n",
              "                    &quot;Macrostrat&quot; : tile_layer_48049a287839d7fc26ca8e569cab7032,\n",
              "                },\n",
              "                overlays :  {\n",
              "                },\n",
              "            };\n",
              "            L.control.layers(\n",
              "                layer_control_31cefbd59804b11d4605e92be3db2fd9.base_layers,\n",
              "                layer_control_31cefbd59804b11d4605e92be3db2fd9.overlays,\n",
              "                {&quot;autoZIndex&quot;: true, &quot;collapsed&quot;: true, &quot;position&quot;: &quot;topright&quot;}\n",
              "            ).addTo(map_e421c60aefb72bb39453bcd92ea6411e);\n",
              "            tile_layer_48049a287839d7fc26ca8e569cab7032.remove();\n",
              "        \n",
              "    \n",
              "                var lat_lng_popup_bfe6e8a2e2a39f41242e09c70389325c = L.popup();\n",
              "                function latLngPop(e) {\n",
              "                    lat_lng_popup_bfe6e8a2e2a39f41242e09c70389325c\n",
              "                        .setLatLng(e.latlng)\n",
              "                        .setContent(&quot;Latitude: &quot; + e.latlng.lat.toFixed(4) +\n",
              "                                    &quot;&lt;br&gt;Longitude: &quot; + e.latlng.lng.toFixed(4))\n",
              "                        .openOn(map_e421c60aefb72bb39453bcd92ea6411e);\n",
              "                    }\n",
              "                map_e421c60aefb72bb39453bcd92ea6411e.on(&#x27;click&#x27;, latLngPop);\n",
              "            \n",
              "&lt;/script&gt;\n",
              "&lt;/html&gt;\" style=\"position:absolute;width:100%;height:100%;left:0;top:0;border:none !important;\" allowfullscreen webkitallowfullscreen mozallowfullscreen></iframe></div></div>"
            ]
          },
          "metadata": {},
          "execution_count": 26
        }
      ],
      "source": [
        "m"
      ]
    },
    {
      "cell_type": "markdown",
      "metadata": {
        "id": "-llU0Up6Fo2F"
      },
      "source": [
        "Document our session, for [computational reproducibility](https://www.nature.com/articles/d41586-018-05990-5)!"
      ]
    },
    {
      "cell_type": "code",
      "execution_count": 27,
      "metadata": {
        "id": "-E2ecaW1Fo2F",
        "outputId": "07302552-7b39-4a0d-ef96-721d45f01c0f",
        "colab": {
          "base_uri": "https://localhost:8080/"
        }
      },
      "outputs": [
        {
          "output_type": "stream",
          "name": "stdout",
          "text": [
            "{'commit_hash': 'fcc71cc32',\n",
            " 'commit_source': 'installation',\n",
            " 'default_encoding': 'utf-8',\n",
            " 'ipython_path': '/usr/local/lib/python3.10/dist-packages/IPython',\n",
            " 'ipython_version': '7.34.0',\n",
            " 'os_name': 'posix',\n",
            " 'platform': 'Linux-6.1.58+-x86_64-with-glibc2.35',\n",
            " 'sys_executable': '/usr/bin/python3',\n",
            " 'sys_platform': 'linux',\n",
            " 'sys_version': '3.10.12 (main, Nov 20 2023, 15:14:05) [GCC 11.4.0]'}\n"
          ]
        }
      ],
      "source": [
        "import IPython\n",
        "print(IPython.sys_info())"
      ]
    },
    {
      "cell_type": "code",
      "execution_count": 28,
      "metadata": {
        "id": "6h_u8omiFo2F",
        "outputId": "97ebbfdb-18fd-4aa4-b0d7-6518e4d374e0",
        "colab": {
          "base_uri": "https://localhost:8080/"
        }
      },
      "outputs": [
        {
          "output_type": "stream",
          "name": "stdout",
          "text": [
            "biopython==1.83\n",
            "folium==0.14.0\n",
            "matplotlib==3.7.1\n",
            "matplotlib-inline==0.1.7\n",
            "matplotlib-venn==0.11.10\n"
          ]
        }
      ],
      "source": [
        "!pip freeze | grep -E 'folium|matplotlib|biopython'"
      ]
    },
    {
      "cell_type": "code",
      "execution_count": 28,
      "metadata": {
        "id": "EVK_9RtQFo2F"
      },
      "outputs": [],
      "source": []
    }
  ],
  "metadata": {
    "kernelspec": {
      "display_name": "Python 3",
      "language": "python",
      "name": "python3"
    },
    "language_info": {
      "codemirror_mode": {
        "name": "ipython",
        "version": 3
      },
      "file_extension": ".py",
      "mimetype": "text/x-python",
      "name": "python",
      "nbconvert_exporter": "python",
      "pygments_lexer": "ipython3",
      "version": "3.7.6"
    },
    "colab": {
      "provenance": []
    }
  },
  "nbformat": 4,
  "nbformat_minor": 0
}